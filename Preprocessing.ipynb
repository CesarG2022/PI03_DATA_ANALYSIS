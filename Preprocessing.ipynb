{
 "cells": [
  {
   "cell_type": "code",
   "execution_count": 1,
   "metadata": {},
   "outputs": [],
   "source": [
    "import pandas as pd\n",
    "import numpy as np\n",
    "import seaborn as sns\n",
    "sns.set()\n",
    "from geopy.geocoders import Nominatim\n",
    "\n",
    "import pymysql\n",
    "import sqlalchemy as db"
   ]
  },
  {
   "cell_type": "markdown",
   "metadata": {},
   "source": [
    "PREPROCESAMIENTO"
   ]
  },
  {
   "cell_type": "markdown",
   "metadata": {},
   "source": [
    "Carga de dataset de accidentes (AccidentesAviones.csv)"
   ]
  },
  {
   "cell_type": "code",
   "execution_count": 2,
   "metadata": {},
   "outputs": [],
   "source": [
    "df_oaci = pd.read_csv('AccidentesAviones.csv', quotechar='\"', na_values='?') # lectura de csv con datos de accidentes\n",
    "df_oaci.drop(columns='Unnamed: 0', inplace=True) # eliminació de columna con indice preestablecido."
   ]
  },
  {
   "cell_type": "markdown",
   "metadata": {},
   "source": [
    "Transformación de Fecha y hora a formato datetime"
   ]
  },
  {
   "cell_type": "code",
   "execution_count": 3,
   "metadata": {},
   "outputs": [],
   "source": [
    "df_oaci['HORA declarada'] = df_oaci['HORA declarada'].map(lambda x: x.replace('c',\"\").strip().replace(\":\",\"\") if type(x)==str and ('c' in x or ':' in x) else x ) # unficación de columna 'HORA declarada' para que todos queden con formato %H%M\n",
    "df_oaci['HORA declarada'] = df_oaci['HORA declarada'].str.strip() #Eliminación de espacios al comienzo y al final de la cadena"
   ]
  },
  {
   "cell_type": "code",
   "execution_count": 4,
   "metadata": {},
   "outputs": [],
   "source": [
    "df_oaci.fecha= pd.to_datetime(df_oaci.fecha, format='%B %d, %Y') #definición y cambio de formato de columna fecha a mes-dia-año"
   ]
  },
  {
   "cell_type": "code",
   "execution_count": 5,
   "metadata": {},
   "outputs": [],
   "source": [
    "df_oaci['HORA declarada'] = pd.to_datetime(df_oaci['HORA declarada'] , format='%H%M', errors='coerce').dt.time # cambio de formato de columna 'HORA declarada' a hora minutos"
   ]
  },
  {
   "cell_type": "markdown",
   "metadata": {},
   "source": [
    "Reasignación de nombres de columna"
   ]
  },
  {
   "cell_type": "code",
   "execution_count": 7,
   "metadata": {},
   "outputs": [],
   "source": [
    "# cambio de nombres de columnas\n",
    "df_oaci.rename(columns={\n",
    "            'fecha':'date',\n",
    "            'HORA declarada':'hour',\n",
    "            'Ruta':'place',\n",
    "            'OperadOR':'operator',\n",
    "            'PASAJEROS A BORDO':'pass_aboard',\n",
    "            'cantidad de fallecidos':'total_fatalities',\n",
    "            'passenger_fatalities':'pass_fatalities'} , inplace=True)"
   ]
  },
  {
   "cell_type": "markdown",
   "metadata": {},
   "source": [
    "Conversión a mayúsculas de columnas de texto"
   ]
  },
  {
   "cell_type": "code",
   "execution_count": 8,
   "metadata": {},
   "outputs": [],
   "source": [
    "#converción a mayúsculas de columnas de texto\n",
    "df_oaci.place= df_oaci.place.map(lambda x: x.upper() if type(x)==str else x)\n",
    "df_oaci.operator= df_oaci.operator.map(lambda x: x.upper() if type(x)==str else x)\n",
    "df_oaci.route= df_oaci.route.map(lambda x: x.upper() if type(x)==str else x)\n",
    "df_oaci.ac_type= df_oaci.ac_type.map(lambda x: x.upper() if type(x)==str else x)\n",
    "df_oaci.summary= df_oaci.summary.map(lambda x: x.upper() if type(x)==str else x)"
   ]
  },
  {
   "cell_type": "markdown",
   "metadata": {},
   "source": [
    "Eliminación de columnas que no ofrecen información"
   ]
  },
  {
   "cell_type": "code",
   "execution_count": 9,
   "metadata": {},
   "outputs": [],
   "source": [
    "# eliminación de columnas inútiles\n",
    "df_oaci.drop(columns=['flight_no', 'cn_ln'], inplace=True)"
   ]
  },
  {
   "cell_type": "markdown",
   "metadata": {},
   "source": [
    "Unificación de categorías escritas de varios modos"
   ]
  },
  {
   "cell_type": "code",
   "execution_count": 10,
   "metadata": {},
   "outputs": [],
   "source": [
    "# corrección de palabras con igual significado pero escritas de manera distinta\n",
    "df_oaci.operator = df_oaci.operator.map(lambda x: 'MILITARY - ROYAL AIR FORCE' if type(x)==str and x=='MILITARY -ROYAL AIR FORCE' else x) #unifica MILITARY - ROYAL AIR FORCE y MILITARY -ROYAL AIR FORCE\n",
    "lista_usairforce = ['MILITARY - U.S. ARMY AIR FORCES', 'MILITARY - U.S. AIR FORCE / U.S. AIR FORCE' , 'MILITARY - U.S. AIR FORCE / MILITARY - U.S. AIR FORCE', 'MILTIARY - U.S. AIRFORCE', 'MILITARY - U.S. ARMY AIR FORCE', 'MILITARY - U.S. AIR FORCE / MILITARY -  U.S. AIR FORCE', 'MILITARY - U.S. AIR FORCE/MILITARY - U.S. AIR FORCE', 'MILITARY - U.S. ARMY AIR FORCES / MILITARY - U.S. ARMY AIR FORCES', 'MILITARY -  (2) U.S. ARMY AIR FORCES']\n",
    "df_oaci.operator = df_oaci.operator.map(lambda x: 'MILITARY - U.S. AIR FORCE' if type(x)==str and x in lista_usairforce  else x) # unifica U.S. arif force\n",
    "df_oaci.route = df_oaci.route.map(lambda x: 'TEST' if type(x)==str and (x=='TEST FLIGHT' or x=='TESTING')  else x)"
   ]
  },
  {
   "cell_type": "markdown",
   "metadata": {},
   "source": [
    "Correción de fila con 'pass_aboard' > 'all_aboard'"
   ]
  },
  {
   "cell_type": "code",
   "execution_count": 42,
   "metadata": {},
   "outputs": [
    {
     "name": "stderr",
     "output_type": "stream",
     "text": [
      "C:\\Users\\jcgut\\AppData\\Local\\Temp\\ipykernel_15400\\3795857078.py:2: SettingWithCopyWarning: \n",
      "A value is trying to be set on a copy of a slice from a DataFrame\n",
      "\n",
      "See the caveats in the documentation: https://pandas.pydata.org/pandas-docs/stable/user_guide/indexing.html#returning-a-view-versus-a-copy\n",
      "  df_oaci.all_aboard.loc[i] = df_oaci.pass_aboard[i] + df_oaci.crew_aboard[i]\n"
     ]
    }
   ],
   "source": [
    "for i in df_oaci[df_oaci['pass_aboard'] > df_oaci['all_aboard']].index.to_list() :\n",
    "    df_oaci.all_aboard.loc[i] = df_oaci.pass_aboard[i] + df_oaci.crew_aboard[i]"
   ]
  },
  {
   "cell_type": "markdown",
   "metadata": {},
   "source": [
    "Obtención del pais del lugar del accidente(columna 'place')"
   ]
  },
  {
   "cell_type": "code",
   "execution_count": 21,
   "metadata": {},
   "outputs": [],
   "source": [
    "geolocator = Nominatim(user_agent='aero') # instancia geocolalizador de geopy"
   ]
  },
  {
   "cell_type": "code",
   "execution_count": 22,
   "metadata": {},
   "outputs": [],
   "source": [
    "# definición de función que devuelve el pais de un lugar de la columna 'place' utilizando el geolocalizador de geopy\n",
    "def pais(place): \n",
    "    if type(place)==str:\n",
    "        noloc=['NEAR' , 'OFF' ,'OVER', 'NORTH SEA','NORTHERN', 'WESTERN' ]\n",
    "        for i in noloc:                 #elimina las palabras de la lista noloc del lugar del accidente para que puedan ser reconocidos por el geolocalizador\n",
    "            if i in place:\n",
    "                    place = place.replace(i,\"\").strip()\n",
    "                    continue\n",
    "# se realiza manejo de excepciones para saltar detenciones por falta de reconocimiento del lugar               \n",
    "        try:\n",
    "            return geolocator.geocode(place, language='en').address.split(',')[-1].strip()\n",
    "        except TimeoutError:    \n",
    "            return None\n",
    "        except AttributeError:\n",
    "            return None\n",
    "            #print (place, type(place))\n",
    "    else: \n",
    "        return place"
   ]
  },
  {
   "cell_type": "code",
   "execution_count": 31,
   "metadata": {},
   "outputs": [],
   "source": [
    "# devuelve el pais basado en el lugar del accidente (columna 'place') utilizando la funcion definida en la celda anterior.\n",
    "# Este proceso tarda alrededor de 45 min por lo que el resultado se exportó al archivo col_country.csv y puede ser cargado en \n",
    "# la siguiente celda para saltarse este paso.\n",
    "\n",
    "#col_pais=[]\n",
    "#for i in df_oaci.place:\n",
    "#    col_pais.append(pais(i))"
   ]
  },
  {
   "cell_type": "code",
   "execution_count": 26,
   "metadata": {},
   "outputs": [],
   "source": [
    "# ejecutar para cargar la columna paises si no se desea ejecutar el geolocalizador de geopy de la celda anterior\n",
    "col_pais = pd.read_csv('col_country.csv')"
   ]
  },
  {
   "cell_type": "code",
   "execution_count": 28,
   "metadata": {},
   "outputs": [],
   "source": [
    "df_oaci.insert(3, 'country', col_pais.country) # Inserción de columna de paises en el dataframe\n",
    "df_oaci.country= df_oaci.country.map(lambda x: x.upper() if type(x)==str else x) # conversión de datos de columna country a mayúsculas"
   ]
  },
  {
   "cell_type": "code",
   "execution_count": 37,
   "metadata": {},
   "outputs": [],
   "source": [
    "# exportación de columna de paises obtenida del geolocalizador de geopy, esto se hace debido a que ejecutar el geolocalizador \n",
    "# sobre toda la columna 'place', se tarda alrededor de 45 min y algunas veces pierde la conexion obligando a repetir el proceso\n",
    "#df_oaci.country.to_csv('col_country.csv', index=False) "
   ]
  },
  {
   "cell_type": "markdown",
   "metadata": {},
   "source": [
    "Carga de dataset de pasajeros transportados por via aérea por año y pais, descargado del databank del banco mundial(cantidad_pasajeros.csv) \n",
    "(https://datos.bancomundial.org/indicador/IS.AIR.PSGR?end=2020&name_desc=false&start=1970&view=chart&year=1974)"
   ]
  },
  {
   "cell_type": "code",
   "execution_count": 129,
   "metadata": {},
   "outputs": [],
   "source": [
    "df_pass = pd.read_csv('cantidad_pasajeros.csv', quotechar='\"') # lectura de csv con datos de pasajeros por año y pais\n",
    "df_pass.drop(columns=['Indicator Name', 'Indicator Code', 'Country Code',\n",
    "'1960', '1961', '1962', '1963', '1964', '1965', '1966', '1967', '1968','1969','2021'], inplace=True) # eliminación de filas inútiles o sin datos"
   ]
  },
  {
   "cell_type": "markdown",
   "metadata": {},
   "source": [
    "Reorganización de la tabla"
   ]
  },
  {
   "cell_type": "code",
   "execution_count": 130,
   "metadata": {},
   "outputs": [],
   "source": [
    "# reorganización de la tabla para obtener solo tres columnas : country , anio, passengers, sin valores nulos.\n",
    "df_pass = df_pass.melt('Country Name', var_name='anio', value_name='passengers').dropna(axis=0, how='any').reset_index(drop=True)"
   ]
  },
  {
   "cell_type": "markdown",
   "metadata": {},
   "source": [
    "Cambios de nombre y formato de columnas "
   ]
  },
  {
   "cell_type": "code",
   "execution_count": 131,
   "metadata": {},
   "outputs": [],
   "source": [
    "df_pass.rename(columns={'Country Name':'country'} , inplace=True) # renombrar columna 'Country Name'\n",
    "df_pass['country'] = df_pass['country'].map(lambda x: x.upper() if type(x)==str else x) # converción a mayúsculas datos de columna country\n",
    "df_pass = df_pass.astype({'passengers':np.int64 , 'anio':np.int64}) # converción a entero de columnas passengers y anio\n",
    "df_pass.anio = pd.to_datetime(df_pass.anio, format='%Y') #Asignación de formato tipo fecha de columna anio."
   ]
  },
  {
   "cell_type": "markdown",
   "metadata": {},
   "source": [
    "CARGA DE DATASET A SQL"
   ]
  },
  {
   "cell_type": "code",
   "execution_count": 143,
   "metadata": {},
   "outputs": [],
   "source": [
    "#establecimiento de conexión con la base de datos 'oaci' del localhost\n",
    "database_username='root' # Nombre de cliente en MySQL Workbench\n",
    "database_password='4488' # Contraseña de servidor MySQL Workbench\n",
    "database_ip='localhost' # localizacion del servidor\n",
    "database_name='oaci' # Nombre de Base de datos a la que nos conectaremos\n",
    "engine=db.create_engine(f'mysql+pymysql://{database_username}:{database_password}@{database_ip}/{database_name}')\n",
    "conexion=engine.connect()"
   ]
  },
  {
   "cell_type": "code",
   "execution_count": 58,
   "metadata": {},
   "outputs": [
    {
     "data": {
      "text/plain": [
       "5008"
      ]
     },
     "execution_count": 58,
     "metadata": {},
     "output_type": "execute_result"
    }
   ],
   "source": [
    "# definicion previa de un diccionario con los tipos con los que se desea ingestar la data en la base de datos \n",
    "# y envío de datos de accidentes a la base de datos\n",
    "\n",
    "types_oaci={'date':db.types.DATE,                               \n",
    " 'hour':db.types.TIME,\n",
    " 'place':db.types.NVARCHAR(length=80),\n",
    " 'country':db.types.NVARCHAR(length=50),\n",
    " 'operator':db.types.NVARCHAR(length=70),\n",
    " 'route':db.types.NVARCHAR(length=70),\n",
    " 'ac_type':db.types.NVARCHAR(length=50),\n",
    " 'registration':db.types.NVARCHAR(length=20),\n",
    " 'all_aboard':db.types.INTEGER,\n",
    " 'pass_aboard':db.types.INTEGER,\n",
    " 'crew_aboard':db.types.INTEGER,\n",
    " 'total_fatalities':db.types.INTEGER,\n",
    " 'pass_fatalities':db.types.INTEGER,\n",
    " 'crew_fatalities':db.types.INTEGER,\n",
    " 'ground':db.types.INTEGER,\n",
    " 'summary':db.types.NVARCHAR(length=2700)}\n",
    "\n",
    "df_oaci.to_sql('accidentes', conexion, index=False, dtype=types_oaci, if_exists='replace') #envío de dataframe de accidentes preprocesado a la base de datos"
   ]
  },
  {
   "cell_type": "code",
   "execution_count": 144,
   "metadata": {},
   "outputs": [
    {
     "data": {
      "text/plain": [
       "9723"
      ]
     },
     "execution_count": 144,
     "metadata": {},
     "output_type": "execute_result"
    }
   ],
   "source": [
    "# definición previa de un diccionario con los tipos con los que se desea ingestar la data en la base de datos\n",
    "# y envío de datos de pasajeros transportados vía aérea a la base de datos\n",
    "types_pass={\n",
    " 'country':db.types.NVARCHAR(length=100),\n",
    " 'anio':db.types.DATE,\n",
    " 'passengers':db.types.BIGINT}\n",
    "\n",
    "df_pass.to_sql('passenger', conexion, index=False, dtype=types_pass, if_exists='replace')  #envío de dataframe de pasajeros preprocesado a la base de datos"
   ]
  },
  {
   "cell_type": "code",
   "execution_count": 145,
   "metadata": {},
   "outputs": [],
   "source": [
    "conexion.close() # cierre de la conexión con la base de datos"
   ]
  }
 ],
 "metadata": {
  "kernelspec": {
   "display_name": "Python 3.10.6 64-bit",
   "language": "python",
   "name": "python3"
  },
  "language_info": {
   "codemirror_mode": {
    "name": "ipython",
    "version": 3
   },
   "file_extension": ".py",
   "mimetype": "text/x-python",
   "name": "python",
   "nbconvert_exporter": "python",
   "pygments_lexer": "ipython3",
   "version": "3.10.6"
  },
  "orig_nbformat": 4,
  "vscode": {
   "interpreter": {
    "hash": "828c1455415b8d49af9924e48c46e7aa2ab0d8dbb5ba25d5a1595b045d45fe8e"
   }
  }
 },
 "nbformat": 4,
 "nbformat_minor": 2
}
